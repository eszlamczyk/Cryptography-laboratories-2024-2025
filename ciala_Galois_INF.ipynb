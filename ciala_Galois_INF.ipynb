{
 "cells": [
  {
   "cell_type": "markdown",
   "id": "b0043b1f",
   "metadata": {},
   "source": [
    "# Arytmetyka w ciałach Galois\n",
    "\n",
    "## Co to jest ciało Galois?\n",
    "\n",
    "**Ciałem Galois** nazywamy ciało $(G,+,\\cdot)$ o skończonej liczbie elementów. Najprostszym przykładem takiego ciała są $\\mathbb{Z}_p$, gdzie $p$ jest liczbą pierwszą. *Rzędem* ciała skończonego nazywamy liczbę jego elementów. Ciała skończone tego samego rzędu są izomorficzne, tzn. istnieje pomiędzy nimi bijekcja zachowująca działania.\n",
    "\n",
    "Kolejnym ważnym przykładem ciała Galois jest pierścień ilorazowy $\\mathbb{Z}_p[X]/W(X)$, gdzie $p$ jest liczbą pierwszą a $W$ jest nierozkładalnym wielomianem monicznym stopnia $n$ (czyli takim, którego współczynnik przy $X^n$ jest równy 1).\n",
    "\n",
    "## Pierścień $\\mathbb{Z}_n$\n",
    "\n",
    "W ciele $\\mathbb{Z}$ wprowadzamy relację równoważności $\\mod n$ (gdzie $n$ jest ustaloną dodatnią liczbą naturalną):\n",
    "$$a\\equiv_n b\\Leftrightarrow [a]_n=[b]_n$$\n",
    "gdzie $[]_n$ oznacza resztę z dzielenia przez $n$.\n",
    "\n",
    "Arytmetyka $\\mod n$:$$a+b=[a+b]_n$$ $$ab=[ab]_n$$"
   ]
  },
  {
   "cell_type": "markdown",
   "id": "d91341b6",
   "metadata": {},
   "source": [
    "**Pierwiastkiem pierwotnym** $\\mod n$ nazywamy liczbę, której potęgi $\\mod n$ dają wszystkie reszty z dzielenia przez $n$, które są względnie pierwsze z $n$. Pierwiastek pierwotny istnieje tylko dla następujących $n$:\n",
    "- $n=p^k$, gdzie $p$ jest liczbą pierwszą różną od 2\n",
    "- $n=2p^k$, gdzie $p$ - j.w.\n",
    "- $n=2$ lub $n=4$\n",
    "\n",
    "Przykładowo, wszystkie reszty z dzielenia przez 5 względnie pierwsze z 5 to 4,3,2,1 (zero odpada - nie jest względnie pierwsze). Kolejne potęgi $2^k \\mod 5$ to\n",
    "- $2^1 \\mod 5=2$\n",
    "- $2^2 \\mod 5=4$\n",
    "- $2^3 \\mod 5=3$\n",
    "- $2^4 \\mod 5=1$\n",
    "\n",
    "czyli 2 jest pierwiastkiem pierwotnym $\\mod 5$."
   ]
  },
  {
   "cell_type": "markdown",
   "id": "f796ef8e",
   "metadata": {},
   "source": [
    "### Sage math:\n",
    "Konstruujemy pierścień `R=Integers(n)` lub `R=IntegerModRing(n)`, gdzie za `n` podajemy ustaloną liczbę naturalną. Jeżeli chcemy poznać postać liczby `x` w tym pierścieniu, to piszemy `R(x)`. Inną opcją jest funkcja `mod(x,n)`"
   ]
  },
  {
   "cell_type": "code",
   "execution_count": null,
   "id": "b4db6339",
   "metadata": {},
   "outputs": [
    {
     "ename": "NameError",
     "evalue": "name 'Integers' is not defined",
     "output_type": "error",
     "traceback": [
      "\u001b[0;31m---------------------------------------------------------------------------\u001b[0m",
      "\u001b[0;31mNameError\u001b[0m                                 Traceback (most recent call last)",
      "Cell \u001b[0;32mIn[1], line 1\u001b[0m\n\u001b[0;32m----> 1\u001b[0m R\u001b[38;5;241m=\u001b[39m\u001b[43mIntegers\u001b[49m(\u001b[38;5;241m3\u001b[39m)\n\u001b[1;32m      2\u001b[0m x\u001b[38;5;241m=\u001b[39mR(\u001b[38;5;241m5\u001b[39m)\n\u001b[1;32m      3\u001b[0m \u001b[38;5;28mprint\u001b[39m(x)\n",
      "\u001b[0;31mNameError\u001b[0m: name 'Integers' is not defined"
     ]
    }
   ],
   "source": [
    "#R=Integers(3)\n",
    "#x=R(5)\n",
    "#print(x)\n",
    "#print(type(x))"
   ]
  },
  {
   "cell_type": "code",
   "execution_count": null,
   "id": "d437e6b3",
   "metadata": {},
   "outputs": [],
   "source": [
    "#4*x"
   ]
  },
  {
   "cell_type": "code",
   "execution_count": null,
   "id": "f945f045",
   "metadata": {},
   "outputs": [],
   "source": [
    "#x+2"
   ]
  },
  {
   "cell_type": "code",
   "execution_count": null,
   "id": "8ad9b5d7",
   "metadata": {},
   "outputs": [],
   "source": [
    "#x^10"
   ]
  },
  {
   "cell_type": "code",
   "execution_count": null,
   "id": "86859c0a",
   "metadata": {},
   "outputs": [],
   "source": [
    "#R(2+7)"
   ]
  },
  {
   "cell_type": "code",
   "execution_count": null,
   "id": "84417cfd",
   "metadata": {},
   "outputs": [],
   "source": [
    "#R(2*4)"
   ]
  },
  {
   "cell_type": "code",
   "execution_count": null,
   "id": "259e5571",
   "metadata": {},
   "outputs": [],
   "source": [
    "#RR=IntegerModRing(5)\n",
    "#x=RR(10)\n",
    "#print(x)\n",
    "#print(type(x))\n"
   ]
  },
  {
   "cell_type": "code",
   "execution_count": null,
   "id": "7cadde47",
   "metadata": {},
   "outputs": [],
   "source": [
    "#x=mod(10,4)\n",
    "#print(x)\n",
    "#print(type(x))"
   ]
  },
  {
   "cell_type": "markdown",
   "id": "f287082e",
   "metadata": {},
   "source": [
    "### Dzielenie w arytmetyce modularnej\n",
    "\n",
    "W momencie, gdy $p$ jest liczbą pierwszą, pierścień $\\mathbb{Z}_p$ jest czymś więcej - jest ciałem, czyli każdy niezerowy element posiada *element odwrotny*, a zatem możemy zdefiniować operację dzielenia:\n",
    "$$\n",
    "a/b=a*b^{-1}\n",
    "$$\n",
    "gdzie $b^{-1}$ oznacza właśnie element odwrotny do $b$, czyli taki, że $b^{-1}*b=b*b^{-1}=1$.\n",
    "\n",
    "W przypadku, gdy podstawą arytmetyki modularnej nie jest liczba pierwsza, to nie mamy do czynienia z ciałem to nie wszystkie elementy będą odwracalne (tzn. nie każde dzielenie jest wykonalne)."
   ]
  },
  {
   "cell_type": "code",
   "execution_count": null,
   "id": "9f50d95e",
   "metadata": {},
   "outputs": [],
   "source": [
    "#x=mod(4,5) #podstawa 5 - liczba pierwsza\n",
    "#x/3        #liczbą odwrotną do 3 jest 2, bo 3*2 mod 5 = 1, czyli 4/3 mod 5 = 4*2 mod 5 = 3"
   ]
  },
  {
   "cell_type": "code",
   "execution_count": null,
   "id": "1875b4ba",
   "metadata": {},
   "outputs": [],
   "source": [
    "#y=mod(3,4) #podstawa 4 - nie jest liczbą pierwszą\n",
    "#y/2        #każda wielokrotność 2 jest liczbą parzystą, zatem nigdy jej reszta z dzielenia przez 4 nie da 1\n",
    "           #zatem 2 nie jest odwracalne"
   ]
  },
  {
   "cell_type": "markdown",
   "id": "5b8ac8e6",
   "metadata": {},
   "source": [
    "Pierwiastki pierwotne w Sage znajdujemy funkcją `primitive_root(n)`."
   ]
  },
  {
   "cell_type": "code",
   "execution_count": null,
   "id": "5c1b2de3",
   "metadata": {},
   "outputs": [],
   "source": [
    "#x=primitive_root(1907)\n",
    "#print(x)\n",
    "#print(type(x))"
   ]
  },
  {
   "cell_type": "code",
   "execution_count": null,
   "id": "ed1f74d5",
   "metadata": {},
   "outputs": [],
   "source": [
    "#primitive_root(15) #nie istnieją pierwiastki pierwotne mod 15"
   ]
  },
  {
   "cell_type": "markdown",
   "id": "76290854",
   "metadata": {},
   "source": [
    "### python:"
   ]
  },
  {
   "cell_type": "markdown",
   "id": "d1feb566",
   "metadata": {},
   "source": [
    "W pythonie nie poszalejemy - operator `%` zwraca resztę z dzielenia. I to tyle. Funkcje do arytmetyki mod $n$ można znaleźć w module SymPy."
   ]
  },
  {
   "cell_type": "code",
   "execution_count": 2,
   "id": "627d5866",
   "metadata": {},
   "outputs": [
    {
     "name": "stdout",
     "output_type": "stream",
     "text": [
      "1\n",
      "<class 'int'>\n"
     ]
    }
   ],
   "source": [
    "x=5%2\n",
    "print(x)\n",
    "print(type(x))"
   ]
  },
  {
   "cell_type": "markdown",
   "id": "4ef37075",
   "metadata": {},
   "source": [
    "## Zadanie 1.\n",
    "\n",
    "Zaimplementować w Pythonie klasę `Zn(N)`, czyli pierścień reszt z dzielenia przez `N`. Przeładować operatory `+`, `-`, `*`, `**` tak, aby na obiektach klasy wykonywały działania mod N, działania dodawania i mnożenia przez `int` oraz metodę `__repr__`."
   ]
  },
  {
   "cell_type": "code",
   "execution_count": 35,
   "id": "f4f0d383",
   "metadata": {},
   "outputs": [],
   "source": [
    "class Zn:\n",
    "    def __init__(self, num, N):\n",
    "        self.modulo = N\n",
    "        self.num = num % N\n",
    "\n",
    "    def __add__(self, o):\n",
    "        if isinstance(o, Zn):\n",
    "            return Zn(self.num + o.num, self.modulo)\n",
    "        elif isinstance(o, int):\n",
    "            return Zn(self.num + o, self.modulo)\n",
    "        return NotImplemented\n",
    "\n",
    "    def __sub__(self, o):\n",
    "        if isinstance(o, Zn):\n",
    "            return Zn(self.num - o.num, self.modulo)\n",
    "        elif isinstance(o, int):\n",
    "            return Zn(self.num - o, self.modulo)\n",
    "        return NotImplemented\n",
    "\n",
    "    def __mul__(self, o):\n",
    "        if isinstance(o, Zn):\n",
    "            return Zn(self.num * o.num, self.modulo)\n",
    "        elif isinstance(o, int):\n",
    "            return Zn(self.num * o, self.modulo)\n",
    "        return NotImplemented\n",
    "\n",
    "    def __pow__(self, o):\n",
    "        if isinstance(o, int):\n",
    "            return Zn(pow(self.num, o, self.modulo), self.modulo)\n",
    "        elif isinstance(o,Zn):\n",
    "            return Zn(pow(self.num, o.num, self.modulo), self.modulo)\n",
    "        return NotImplemented\n",
    "\n",
    "    def __int__(self):\n",
    "        return int(self.num)\n",
    "\n",
    "    def __str__(self):\n",
    "        return str(self.num)\n",
    "\n",
    "    def __radd__(self, o):\n",
    "        return self.__add__(o)\n",
    "\n",
    "    def __rsub__(self, o):\n",
    "        if isinstance(o, int):\n",
    "            return Zn(o - self.num, self.modulo)\n",
    "        return NotImplemented\n",
    "\n",
    "    def __rmul__(self, o):\n",
    "        return self.__mul__(o)"
   ]
  },
  {
   "cell_type": "code",
   "execution_count": 36,
   "id": "f9dece7e",
   "metadata": {},
   "outputs": [
    {
     "name": "stdout",
     "output_type": "stream",
     "text": [
      "2 3 0\n",
      "2 6 1 1 1 5 5\n"
     ]
    }
   ],
   "source": [
    "#TESTY\n",
    "\n",
    "x=Zn(2,7)\n",
    "y=Zn(10,7)\n",
    "z=Zn(14,7)\n",
    "\n",
    "print(x,y,z)\n",
    "#2 3 0\n",
    "print(x+z, x*y, x**y,6+x,x+6,4*y,y*4)\n",
    "#2 6 1 1 1 5 5"
   ]
  },
  {
   "cell_type": "markdown",
   "id": "0750ef60",
   "metadata": {},
   "source": [
    "## Pierścienie ilorazowe wielomianów\n",
    "\n",
    "Aby utworzyć pierścień ilorazowy $\\mathbb{Z}_n[X]/W(X)$ w Sage musimy najpierw utworzyć $\\mathbb{Z}_n[X]$, czyli pierścień wielomianów o współczynnikach z $\\mathbb{Z}_n$:\n",
    "\n",
    "`R=PolynomialRing(Integers(n),'X')`\n",
    "\n",
    "Jeżeli w dalszej części kodu mamy zamiar korzystać z wielomianów z tego pierścienia, to dobrze jest rozdzielić nazewnictwo zmiennych niezależnych\n",
    "\n",
    "`X=R.gen()`\n",
    "\n",
    "Teraz każdy wielomian zmiennej `X` będzie przez Sage traktowany jako element pierścienia `R`."
   ]
  },
  {
   "cell_type": "code",
   "execution_count": null,
   "id": "2a8a7cb1",
   "metadata": {},
   "outputs": [],
   "source": [
    "#R=PolynomialRing(Integers(5),'X')\n",
    "#X=R.gen()\n",
    "\n",
    "#X^6-13*X^4+12*X^2-10*X+6"
   ]
  },
  {
   "cell_type": "markdown",
   "id": "f606fdb6",
   "metadata": {},
   "source": [
    "Pierścień ilorazowy tworzymy metodą `R.quotient(W,'x')`, gdzie `W` jest dowolnym wielomianem. Podobnie jak poprzednio dobrze jest od razu zdefiniować `x` jako zmienną niezależną wielomianów z nowego pierścienia."
   ]
  },
  {
   "cell_type": "code",
   "execution_count": null,
   "id": "c276fa4e",
   "metadata": {},
   "outputs": [],
   "source": [
    "#Rq=R.quotient(X^4+1,'x')\n",
    "#x=Rq.gen()\n",
    "\n",
    "#x^6-13*x^4+12*x^2-10*x+6"
   ]
  },
  {
   "cell_type": "code",
   "execution_count": null,
   "id": "04a7edfb",
   "metadata": {},
   "outputs": [],
   "source": [
    "#w1=7*x^6+14\n",
    "#w2=24*x^4-5*x^2-7*x+13\n",
    "\n",
    "#expand(w1*w2)"
   ]
  },
  {
   "cell_type": "markdown",
   "id": "c48d18d8",
   "metadata": {},
   "source": [
    "## Zadanie 2\n",
    "\n",
    "Mając klasę `Zn(N)` zaimplementować w Pythonie klasę `ZnW(N,W)`, czyli pierścień ilorazowy $\\mathbb{Z}_n[X]/W(X)$ z działaniami dodawania i mnożenia wielomianów."
   ]
  },
  {
   "cell_type": "markdown",
   "id": "592a27cc",
   "metadata": {},
   "source": [
    "Dane testowe:"
   ]
  },
  {
   "cell_type": "markdown",
   "id": "4b263dcf",
   "metadata": {},
   "source": [
    "$$w1=7x^6+14x^3$$\n",
    "$$w2=24x^4-5x^2-7x+13$$\n",
    "$$w3=23x^5-3x^4+x^3+35x^2+4$$"
   ]
  },
  {
   "cell_type": "markdown",
   "id": "da891d99",
   "metadata": {},
   "source": [
    "Reprezentacja w $\\mathbb{Z}_{17}[X]/(X^4+1)$ (tzn. dla $n=17$ i $W(X)=X^4+1$):"
   ]
  },
  {
   "cell_type": "markdown",
   "id": "6fd2164a",
   "metadata": {},
   "source": [
    "$$w1=14x^3 + 10x^2$$\n",
    "$$w2=12x^2 + 10x + 6$$\n",
    "$$w3=x^3 + x^2 + 11x + 7$$"
   ]
  },
  {
   "cell_type": "markdown",
   "id": "0c24611c",
   "metadata": {},
   "source": [
    "Arytmetyka:"
   ]
  },
  {
   "cell_type": "markdown",
   "id": "25cfaac4",
   "metadata": {},
   "source": [
    "$$w1+w2=14x^3 + 5x^2 + 10x + 6$$\n",
    "$$w1*w2=14x^3 + 9x^2 + 2x + 12$$\n",
    "$$6*w3=6x^3 + 6x^2 + 15x + 8$$\n",
    "\n",
    "\n",
    "\n",
    "\n"
   ]
  },
  {
   "cell_type": "code",
   "execution_count": 8,
   "id": "d24cb816",
   "metadata": {},
   "outputs": [],
   "source": [
    "import numpy as np\n",
    "\n",
    "class ZnW:\n",
    "    def __init__(self, X, q=17, n=4):\n",
    "        self.q = q\n",
    "        self.n = n\n",
    "        self.W = [1,0,0,0,1]\n",
    "        self.X = [num % self.q for num in self.polynomial_remainder(X)]\n",
    "\n",
    "    def polynomial_remainder(self,dividend):\n",
    "        divisor = self.W[:]\n",
    "        \n",
    "        while len(dividend) >= len(divisor):\n",
    "\n",
    "            lead_coeff = dividend[0] / divisor[0]\n",
    "            degree_diff = len(dividend) - len(divisor)\n",
    "            \n",
    "\n",
    "            scaled_divisor = [coeff * lead_coeff for coeff in divisor] + [0] * degree_diff\n",
    "            dividend = [d - s for d, s in zip(dividend, scaled_divisor)]\n",
    "\n",
    "            while dividend and dividend[0] == 0:\n",
    "                dividend.pop(0)\n",
    "\n",
    "            for i in range(len(dividend)):\n",
    "                if dividend[i] != 0:\n",
    "                    dividend[i] = int(dividend[i] % self.q)\n",
    "        \n",
    "        return dividend    \n",
    "\n",
    "    def __add__(self, other):\n",
    "        return ZnW(np.polyadd(self.X, other.X))\n",
    "\n",
    "    def __mul__(self, other):  \n",
    "        return ZnW(np.polymul(self.X, other.X))\n",
    "    \n",
    "    def __rmul__(self, o):\n",
    "        return self.__mul__(o)\n",
    "    \n",
    "    def __len__(self):\n",
    "        return len(self.X)\n",
    "    \n",
    "    def convert_to_nice(self,val,i):\n",
    "        if val == 0:\n",
    "            return \"\"\n",
    "        if self.first_print:\n",
    "            symbol = \"\"\n",
    "            self.first_print = False\n",
    "        else:\n",
    "            symbol = \" - \" if val < 0 else \" + \"\n",
    "\n",
    "        \n",
    "        if len(self.X) - i - 1 == 0:\n",
    "            return symbol + str(abs(val))\n",
    "        \n",
    "        result = f\"x^{len(self.X) - i - 1}\"\n",
    "\n",
    "\n",
    "        if abs(val) == 1:\n",
    "            return symbol + result\n",
    "        else:\n",
    "            return symbol + str(val) + result\n",
    "\n",
    "\n",
    "    def __str__(self):\n",
    "        self.first_print = True\n",
    "        return f'{\"\".join(self.convert_to_nice(val,i) for i, val in enumerate(self.X))}'\n",
    "    \n",
    "    def __repr__(self):\n",
    "        self.first_print = True\n",
    "        return f'{\"\".join(self.convert_to_nice(val,i) for i, val in enumerate(self.X))}'\n",
    "    "
   ]
  },
  {
   "cell_type": "code",
   "execution_count": 9,
   "id": "19fdb77d",
   "metadata": {},
   "outputs": [
    {
     "name": "stdout",
     "output_type": "stream",
     "text": [
      "w1 = 14x^3 + 10x^2\n",
      "w2 = 12x^2 + 10x^1 + 6\n",
      "w3 = x^3 + x^2 + 11x^1 + 7\n",
      "\n",
      "w1 + w2 = 14x^3 + 5x^2 + 10x^1 + 6\n",
      "w1 * w2 = 14x^3 + 9x^2 + 2x^1 + 12\n"
     ]
    }
   ],
   "source": [
    "w1 = [7,0,0,14,0,0,0]\n",
    "w2 = [12,10,6]\n",
    "w3 = [1,1,11,7]\n",
    "\n",
    "w1 = ZnW(w1)\n",
    "w2 = ZnW(w2)\n",
    "w3 = ZnW(w3)\n",
    "\n",
    "print(f\"w1 = {w1}\")\n",
    "print(f\"w2 = {w2}\")\n",
    "print(f\"w3 = {w3}\")\n",
    "\n",
    "print()\n",
    "print(f\"w1 + w2 = {w1 + w2}\")\n",
    "print(f\"w1 * w2 = {w1 * w2}\")\n",
    "#print(f\"6 * w3 = {6 * w3}\")"
   ]
  },
  {
   "cell_type": "markdown",
   "id": "c6a6f1bd",
   "metadata": {},
   "source": [
    "$$w1=14x^3 + 10x^2$$\n",
    "$$w2=12x^2 + 10x + 6$$\n",
    "$$w3=x^3 + x^2 + 11x + 7$$\n",
    "\n",
    "$$w1+w2=14x^3 + 5x^2 + 10x + 6$$\n",
    "$$w1*w2=14x^3 + 9x^2 + 2x + 12$$"
   ]
  }
 ],
 "metadata": {
  "kernelspec": {
   "display_name": "Python 3",
   "language": "python",
   "name": "python3"
  },
  "language_info": {
   "codemirror_mode": {
    "name": "ipython",
    "version": 3
   },
   "file_extension": ".py",
   "mimetype": "text/x-python",
   "name": "python",
   "nbconvert_exporter": "python",
   "pygments_lexer": "ipython3",
   "version": "3.10.12"
  }
 },
 "nbformat": 4,
 "nbformat_minor": 5
}
