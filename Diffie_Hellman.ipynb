{
 "cells": [
  {
   "cell_type": "markdown",
   "id": "552b0fe2",
   "metadata": {},
   "source": [
    "# Problem logarytmu dyskretnego\n",
    "\n",
    "Niech $(G,\\circ)$ będzie grupą z działaniem $\\circ$ i elementem neutralnym $1_G$. Wtedy dla dowolnego elementu $a\\in G$ i $k\\in\\mathbb{Z}$ definiujemy *potęgę* $$a^k =\\left\\{\\begin{array}{cc}\n",
    "\\underbrace{a\\circ a\\circ \\ldots \\circ a}_{k}&\\text{ dla }k>0\\\\\n",
    "1_G&\\text{ dla }k=0\\\\\n",
    "\\underbrace{a^{-1}\\circ a^{-1}\\circ \\ldots \\circ a^{-1}}_{k}&\\text{ dla }k<0\n",
    "\\end{array}\\right.$$\n",
    "gdzie $a^{-1}$ jest elementem odwrotnym do $a$.\n",
    "\n",
    "Dla $a,b\\in G$, $b\\neq 1_G$, *logarytmem dyskretnym* $\\log_b a$ jest każda liczba $k\\in\\mathbb{Z}$ taka, że $b^k=a$.\n",
    "\n",
    "## Logarytm dyskretny w $\\mathbb{Z}_n$\n",
    "\n",
    "W przypadku pierścienia $\\mathbb{Z}_n$ logarytmem dyskretnym $\\log_b a$ jest każda liczba $k\\in\\mathbb{Z}$ taka, że $b^k=a\\mod n$, o ile w ogóle istnieje.\n",
    "\n",
    "Specyficzną sytuacją w teorii liczb jest gdy $n=p$ jest liczbą pierwszą a $q$ jest pierwiastkiem pierwotnym $\\mod p$. Wtedy:\n",
    "- potęgi $q^k\\mod p$ generują cały zbiór $[1,p-1]$, tzn. $q$ jest generatorem grupy multiplikatywneh rzędu $p-1$\n",
    "- logarytm dyskretny $\\log_q a$ istnieje dla każdego niezerowego elementu $a\\in \\mathbb{Z}_p$\n",
    "\n",
    "## Algorytm baby-step giant-step\n",
    "\n",
    "Jeden z najprostszych (poza metodą naiwną) algorytmów poszukiwania logarytmu dyskretnego w grupach cyklicznych.\n",
    "\n",
    "Niech $p$ będzie liczbą pierwszą oraz niech $q$ będzie pierwiastkiem pierwotnym modulo $p$. Dla niezerowego $a\\in\\mathbb{Z}_p$ szukamy liczby $k\\in\\mathbb{Z}$ takiej, że $q^k=a\\mod p$\n",
    "\n",
    "### Krok 1.\n",
    "- $m=\\lceil\\sqrt{p-1}\\rceil$\n",
    "- tworzymy pomocniczą tablicę potęg: dla wszystkich $i\\in [0,m)$ obliczamy parę $(i,q^i)$\n",
    "- obliczamy $r=(q^{-1})^m$\n",
    "### Krok 2.\n",
    "- $b=a$\n",
    "- dla wszystkich $j\\in [0,m)$:\n",
    "    - sprawdzamy, czy para $(i,b)$ jest elementem tablicy potęg dla pewnego $i$\n",
    "    - jeżeli tak, to $k=jm+i$ i kończymy algorytm\n",
    "    - jeżeli nie, to $b=br$ i kontynuujemy pętlę\n"
   ]
  },
  {
   "cell_type": "markdown",
   "id": "0a168713",
   "metadata": {},
   "source": [
    "## Zadanie 1.\n",
    "\n",
    "Zaimplementować algorytm baby-step giant-step. Przetestować dla podanych danych testujących.\n",
    "\n",
    "```Dane testujące:\n",
    "p = 7\n",
    "q = 3\n",
    "a = 4\n",
    "\n",
    "m = 3\n",
    "tablica_testowa = [1,3,2]\n",
    "r = 6\n",
    "k = 4 (j = 1, i = 1)\n",
    "```\n",
    "\n",
    "```\n",
    "p = 29\n",
    "q = 8\n",
    "a = 10\n",
    "\n",
    "m = 6\n",
    "tablica_testowa = [1,8,6,19,7,27]\n",
    "r = 9\n",
    "k = 17 (j = 2, i = 5)\n",
    "```\n",
    "\n",
    "```\n",
    "p = 113\n",
    "q = 76\n",
    "a = 84\n",
    "\n",
    "m = 11\n",
    "tablica_testowa = [1,76,13,84,56,75,50,71,85,19,88]\n",
    "r = 70\n",
    "k = 3 (j = 0, i = 3)\n",
    "```"
   ]
  },
  {
   "cell_type": "code",
   "execution_count": 40,
   "id": "9c934933",
   "metadata": {},
   "outputs": [],
   "source": [
    "from math import sqrt, ceil\n",
    "\n",
    "def baby_step(p,q, debug=True):\n",
    "    m = ceil(sqrt(p-1))\n",
    "    if debug:\n",
    "        print(f\"m = {m}\")\n",
    "    test_table = []\n",
    "    for i in range(m):\n",
    "        test_table.append((i,pow(q,i,p)))\n",
    "    if debug:\n",
    "        print(f\"tablica testowa = {test_table}\")\n",
    "    r = pow(q,-m,p)\n",
    "    \n",
    "    if debug:\n",
    "        print(f\"r = {r}\")\n",
    "\n",
    "    return m, test_table, r\n",
    "\n",
    "def giant_step(p,q,a, debug=True):\n",
    "    m, test_table, r = baby_step(p,q,debug)\n",
    "    b = a % p\n",
    "    for j in range(m):\n",
    "        for i in range(m):\n",
    "            if (i,b) == test_table[i]:\n",
    "                k = (j*m + i) % p\n",
    "                if debug:\n",
    "                    print(f\"k = {k} (j = {j}, i = {i})\")\n",
    "                return k \n",
    "        b = (b*r) % p\n"
   ]
  },
  {
   "cell_type": "code",
   "execution_count": 37,
   "id": "dc63341c",
   "metadata": {},
   "outputs": [
    {
     "name": "stdout",
     "output_type": "stream",
     "text": [
      "m = 3\n",
      "tablica testowa = [(0, 1), (1, 3), (2, 2)]\n",
      "r = 6\n",
      "k = 4 (j = 1, i = 1)\n",
      "m = 6\n",
      "tablica testowa = [(0, 1), (1, 8), (2, 6), (3, 19), (4, 7), (5, 27)]\n",
      "r = 9\n",
      "k = 17 (j = 2, i = 5)\n",
      "m = 11\n",
      "tablica testowa = [(0, 1), (1, 76), (2, 13), (3, 84), (4, 56), (5, 75), (6, 50), (7, 71), (8, 85), (9, 19), (10, 88)]\n",
      "r = 70\n",
      "k = 3 (j = 0, i = 3)\n"
     ]
    },
    {
     "data": {
      "text/plain": [
       "3"
      ]
     },
     "execution_count": 37,
     "metadata": {},
     "output_type": "execute_result"
    }
   ],
   "source": [
    "giant_step(7,3,4)\n",
    "giant_step(29,8,10)\n",
    "giant_step(113,76,84)"
   ]
  },
  {
   "cell_type": "markdown",
   "id": "812b4993",
   "metadata": {},
   "source": [
    "# Wymiana klucza typu Diffie-Hellman\n",
    "\n",
    "Alice i Bob uzgadniają klucz publiczny będący liczbą pierwszą $p$ oraz $q$ - pierwiastkiem pierwotnym mod $p$.\n",
    "- sekret Alice: liczba całkowita $n\\in \\mathbb{Z}_p\\setminus\\{0\\}$\n",
    "- sekret Boba: liczba całkowita $m\\in \\mathbb{Z}_p\\setminus\\{0\\}$\n",
    "- Alice generuje $x=q^n\\mod p$ i wysyła do Boba\n",
    "- Bob generuje $y=q^m\\mod p$ i wysyła Alice\n",
    "- Alice oblicza klucz $k=y^n\\mod p$\n",
    "- Bob oblicza klucz $k=x^m\\mod p$\n"
   ]
  },
  {
   "cell_type": "markdown",
   "id": "076f56f9",
   "metadata": {},
   "source": [
    "## Zadanie 2.\n",
    "\n",
    "Zaimplementuj powyższy algorytm wymiany klucza. Dobierz parametry $p$ i $q$ tak, żeby znając $x$, $y$, $p$ i $q$ nie dało się odtworzyć sekretów algorytmem z zadania 1."
   ]
  },
  {
   "cell_type": "code",
   "execution_count": 41,
   "id": "0310077f",
   "metadata": {},
   "outputs": [
    {
     "name": "stdout",
     "output_type": "stream",
     "text": [
      "Pierwiastek pierwotny z 2137: 10\n"
     ]
    }
   ],
   "source": [
    "from random import randint\n",
    "\n",
    "def Diffie_Hellman(p,q):\n",
    "    n = randint(1,p-1)\n",
    "    print(f\"Alice generated {n}\")\n",
    "    m = randint(1,p-1)\n",
    "    print(f\"BOB generated {m}\")\n",
    "    x = pow(q,n,p)\n",
    "    print(f\"Alice sent {x}\")\n",
    "    y = pow(q,m,p)\n",
    "    print(f\"BOB sent {y}\")\n",
    "\n",
    "    k = pow(y,n,p)\n",
    "    print(f\"Alice calculated k = {k}\")\n",
    "    k_BOB = pow(y,n,p)\n",
    "    print(f\"BOB calculated k = {k_BOB}\")\n",
    "    return k, x, y\n",
    "\n",
    "\n",
    "def is_primitive_root(g, p):\n",
    "    if p <= 2:\n",
    "        return False\n",
    "\n",
    "    phi = p - 1\n",
    "\n",
    "    factors = []\n",
    "    n = phi\n",
    "    for i in range(2, int(n**0.5) + 1):\n",
    "        if n % i == 0:\n",
    "            factors.append(i)\n",
    "            while n % i == 0:\n",
    "                n //= i\n",
    "    if n > 1:\n",
    "        factors.append(n)\n",
    "\n",
    "    for factor in factors:\n",
    "        if pow(g, phi // factor, p) == 1:\n",
    "            return False\n",
    "    return True\n",
    "\n",
    "\n",
    "def find_primitive_root(p):\n",
    "    for g in range(2, p):\n",
    "        if is_primitive_root(g, p):\n",
    "            return g\n",
    "    return None\n",
    "\n",
    "\n",
    "p = 2137\n",
    "primitive_root = find_primitive_root(p)\n",
    "print(f\"Pierwiastek pierwotny z {p}: {primitive_root}\")"
   ]
  },
  {
   "cell_type": "code",
   "execution_count": 42,
   "id": "b6374401",
   "metadata": {},
   "outputs": [
    {
     "name": "stdout",
     "output_type": "stream",
     "text": [
      "Pierwiastek pierwotny z 2199023255551: 3\n"
     ]
    }
   ],
   "source": [
    "p = 2**41 - 1\n",
    "primitive_root = find_primitive_root(p)\n",
    "print(f\"Pierwiastek pierwotny z {p}: {primitive_root}\")"
   ]
  },
  {
   "cell_type": "code",
   "execution_count": 45,
   "id": "14a18ac8",
   "metadata": {},
   "outputs": [
    {
     "name": "stdout",
     "output_type": "stream",
     "text": [
      "============================2137======================\n",
      "Alice generated 1276\n",
      "BOB generated 187\n",
      "Alice sent 686\n",
      "BOB sent 844\n",
      "Alice calculated k = 287\n",
      "BOB calculated k = 287\n",
      "\n",
      "Found Alice secret 1276\n",
      "Found BOB secret 187\n",
      "==========================2^41 - 1======================\n",
      "Alice generated 1453821120186\n",
      "BOB generated 822736286304\n",
      "Alice sent 488538622287\n",
      "BOB sent 708881971940\n",
      "Alice calculated k = 1760595672023\n",
      "BOB calculated k = 1760595672023\n",
      "\n"
     ]
    },
    {
     "ename": "KeyboardInterrupt",
     "evalue": "",
     "output_type": "error",
     "traceback": [
      "\u001b[0;31m---------------------------------------------------------------------------\u001b[0m",
      "\u001b[0;31mKeyboardInterrupt\u001b[0m                         Traceback (most recent call last)",
      "Cell \u001b[0;32mIn[45], line 24\u001b[0m\n\u001b[1;32m     21\u001b[0m k,x,y \u001b[38;5;241m=\u001b[39m Diffie_Hellman(p,\u001b[38;5;241m3\u001b[39m)\n\u001b[1;32m     23\u001b[0m \u001b[38;5;28mprint\u001b[39m()\n\u001b[0;32m---> 24\u001b[0m n \u001b[38;5;241m=\u001b[39m \u001b[43mgiant_step\u001b[49m\u001b[43m(\u001b[49m\u001b[43mp\u001b[49m\u001b[43m,\u001b[49m\u001b[43mq\u001b[49m\u001b[43m,\u001b[49m\u001b[43mx\u001b[49m\u001b[43m,\u001b[49m\u001b[43m \u001b[49m\u001b[43mdebug\u001b[49m\u001b[38;5;241;43m=\u001b[39;49m\u001b[38;5;28;43;01mFalse\u001b[39;49;00m\u001b[43m)\u001b[49m\n\u001b[1;32m     25\u001b[0m m \u001b[38;5;241m=\u001b[39m giant_step(p,q,y, debug\u001b[38;5;241m=\u001b[39m\u001b[38;5;28;01mFalse\u001b[39;00m)\n\u001b[1;32m     27\u001b[0m \u001b[38;5;28mprint\u001b[39m(\u001b[38;5;124mf\u001b[39m\u001b[38;5;124m\"\u001b[39m\u001b[38;5;124mFound Alice secret \u001b[39m\u001b[38;5;132;01m{\u001b[39;00mn\u001b[38;5;132;01m}\u001b[39;00m\u001b[38;5;124m\"\u001b[39m)\n",
      "Cell \u001b[0;32mIn[40], line 24\u001b[0m, in \u001b[0;36mgiant_step\u001b[0;34m(p, q, a, debug)\u001b[0m\n\u001b[1;32m     22\u001b[0m \u001b[38;5;28;01mfor\u001b[39;00m j \u001b[38;5;129;01min\u001b[39;00m \u001b[38;5;28mrange\u001b[39m(m):\n\u001b[1;32m     23\u001b[0m     \u001b[38;5;28;01mfor\u001b[39;00m i \u001b[38;5;129;01min\u001b[39;00m \u001b[38;5;28mrange\u001b[39m(m):\n\u001b[0;32m---> 24\u001b[0m         \u001b[38;5;28;01mif\u001b[39;00m (i,b) \u001b[38;5;241m==\u001b[39m test_table[i]:\n\u001b[1;32m     25\u001b[0m             k \u001b[38;5;241m=\u001b[39m (j\u001b[38;5;241m*\u001b[39mm \u001b[38;5;241m+\u001b[39m i) \u001b[38;5;241m%\u001b[39m p\n\u001b[1;32m     26\u001b[0m             \u001b[38;5;28;01mif\u001b[39;00m debug:\n",
      "\u001b[0;31mKeyboardInterrupt\u001b[0m: "
     ]
    }
   ],
   "source": [
    "print(\"============================2137======================\")\n",
    "p = 2137\n",
    "q = find_primitive_root(p)\n",
    "\n",
    "k,x,y = Diffie_Hellman(p,q)\n",
    "\n",
    "print()\n",
    "n = giant_step(p,q,x, debug=False)\n",
    "m = giant_step(p,q,y, debug=False)\n",
    "\n",
    "\n",
    "print(f\"Found Alice secret {n}\")\n",
    "print(f\"Found BOB secret {m}\")\n",
    "\n",
    "\n",
    "print(\"==========================2^41 - 1======================\")\n",
    "p = 2**41 - 1\n",
    "q = find_primitive_root(p)\n",
    "\n",
    "\n",
    "k,x,y = Diffie_Hellman(p,3)\n",
    "\n",
    "print()\n",
    "n = giant_step(p,q,x, debug=False)\n",
    "m = giant_step(p,q,y, debug=False)\n",
    "\n",
    "print(f\"Found Alice secret {n}\")\n",
    "print(f\"Found BOB secret {m}\")"
   ]
  }
 ],
 "metadata": {
  "kernelspec": {
   "display_name": "Python 3",
   "language": "python",
   "name": "python3"
  },
  "language_info": {
   "codemirror_mode": {
    "name": "ipython",
    "version": 3
   },
   "file_extension": ".py",
   "mimetype": "text/x-python",
   "name": "python",
   "nbconvert_exporter": "python",
   "pygments_lexer": "ipython3",
   "version": "3.12.3"
  }
 },
 "nbformat": 4,
 "nbformat_minor": 5
}
